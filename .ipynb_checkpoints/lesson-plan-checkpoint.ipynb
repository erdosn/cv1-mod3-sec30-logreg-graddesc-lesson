{
 "cells": [
  {
   "cell_type": "markdown",
   "metadata": {},
   "source": [
    "### Questions"
   ]
  },
  {
   "cell_type": "markdown",
   "metadata": {},
   "source": [
    "### Objectives\n",
    "YWBAT\n",
    "* explain how gradient descent is used in logistic regression"
   ]
  },
  {
   "cell_type": "markdown",
   "metadata": {},
   "source": [
    "### Outline\n",
    "* Take Some Questions\n",
    "* Discuss What Gradient Descent Does!!!!!!!\n",
    "* Implement with 1d array\n",
    "* Discuss how this is extrapolates to multi-dimensional arrays\n",
    "* Possibly implement with higher dimensions\n",
    "* SKLEARN"
   ]
  },
  {
   "cell_type": "code",
   "execution_count": 106,
   "metadata": {},
   "outputs": [],
   "source": [
    "import pandas as pd\n",
    "import numpy as np\n",
    "\n",
    "from sklearn.linear_model import LogisticRegression, LogisticRegressionCV, SGDClassifier\n",
    "from sklearn.metrics import confusion_matrix, r2_score, accuracy_score, make_scorer, r2_score, precision_score, recall_score\n",
    "from sklearn.model_selection import train_test_split, cross_val_score, KFold\n",
    "\n",
    "\n",
    "import matplotlib.pyplot as plt"
   ]
  },
  {
   "cell_type": "markdown",
   "metadata": {},
   "source": [
    "### Let's load in some mocked data"
   ]
  },
  {
   "cell_type": "code",
   "execution_count": 31,
   "metadata": {},
   "outputs": [
    {
     "data": {
      "text/html": [
       "<div>\n",
       "<style scoped>\n",
       "    .dataframe tbody tr th:only-of-type {\n",
       "        vertical-align: middle;\n",
       "    }\n",
       "\n",
       "    .dataframe tbody tr th {\n",
       "        vertical-align: top;\n",
       "    }\n",
       "\n",
       "    .dataframe thead th {\n",
       "        text-align: right;\n",
       "    }\n",
       "</style>\n",
       "<table border=\"1\" class=\"dataframe\">\n",
       "  <thead>\n",
       "    <tr style=\"text-align: right;\">\n",
       "      <th></th>\n",
       "      <th>x</th>\n",
       "      <th>y</th>\n",
       "    </tr>\n",
       "  </thead>\n",
       "  <tbody>\n",
       "    <tr>\n",
       "      <th>0</th>\n",
       "      <td>10.862505</td>\n",
       "      <td>1</td>\n",
       "    </tr>\n",
       "    <tr>\n",
       "      <th>1</th>\n",
       "      <td>5.067503</td>\n",
       "      <td>0</td>\n",
       "    </tr>\n",
       "    <tr>\n",
       "      <th>2</th>\n",
       "      <td>9.902806</td>\n",
       "      <td>1</td>\n",
       "    </tr>\n",
       "    <tr>\n",
       "      <th>3</th>\n",
       "      <td>6.249646</td>\n",
       "      <td>1</td>\n",
       "    </tr>\n",
       "    <tr>\n",
       "      <th>4</th>\n",
       "      <td>5.969225</td>\n",
       "      <td>0</td>\n",
       "    </tr>\n",
       "  </tbody>\n",
       "</table>\n",
       "</div>"
      ],
      "text/plain": [
       "           x  y\n",
       "0  10.862505  1\n",
       "1   5.067503  0\n",
       "2   9.902806  1\n",
       "3   6.249646  1\n",
       "4   5.969225  0"
      ]
     },
     "execution_count": 31,
     "metadata": {},
     "output_type": "execute_result"
    }
   ],
   "source": [
    "df = pd.read_csv(\"data.csv\")\n",
    "df[\"x\"] = x\n",
    "df[\"y\"] = y\n",
    "df.head()"
   ]
  },
  {
   "cell_type": "markdown",
   "metadata": {},
   "source": [
    "### Plotting our points with color"
   ]
  },
  {
   "cell_type": "code",
   "execution_count": 64,
   "metadata": {},
   "outputs": [
    {
     "data": {
      "image/png": "[encoded data removed]",
      "text/plain": [
       "<Figure size 576x360 with 1 Axes>"
      ]
     },
     "metadata": {
      "needs_background": "light"
     },
     "output_type": "display_data"
    }
   ],
   "source": [
    "color_dict = {0: 'green', 1: 'purple'}\n",
    "plt.figure(figsize=(8, 5))\n",
    "plt.grid()\n",
    "for i, j in zip(x, y):\n",
    "    plt.scatter(i, j, color=color_dict[j], s=60, alpha=0.3)\n",
    "plt.show()\n",
    "\n",
    "# a value at x=0 would throw things off because both classes have x = 0\n",
    "# The goal is to predict 1s and 0s using a sigmoid function "
   ]
  },
  {
   "cell_type": "markdown",
   "metadata": {},
   "source": [
    "### How can we optimize this function to estimate these points?  \n",
    "\n",
    "$$f(x)= \\frac{1}{1 + e^{-(\\beta_0 + \\beta_1 x_1 + ...)}}$$   \n",
    "\n",
    "in our case\n",
    "\n",
    "$$f(x)= \\frac{1}{1 + e^{-(\\beta_0 + \\beta_1 x_1)}}$$   \n",
    "\n",
    "$\\beta_0, \\beta_1$ shifts along the x-axis and change our shape\n",
    "\n",
    "[Great Derivation of the Derivative of Sigmoid](https://towardsdatascience.com/derivative-of-the-sigmoid-function-536880cf918e)"
   ]
  },
  {
   "cell_type": "code",
   "execution_count": 42,
   "metadata": {},
   "outputs": [],
   "source": [
    "def sigmoid(x, b0=-10, b1=1):\n",
    "    num = 1\n",
    "    den = 1 + np.exp(-(b0 + b1*x))\n",
    "    return num / den\n",
    "\n",
    "\n",
    "def d_sig(x, b0=0, b1=1):\n",
    "    return sigmoid(x, b0, b1) * (1 - sigmoid(x, b0, b1))"
   ]
  },
  {
   "cell_type": "code",
   "execution_count": 43,
   "metadata": {},
   "outputs": [
    {
     "data": {
      "image/png": "[encoded data removed]",
      "text/plain": [
       "<Figure size 576x360 with 1 Axes>"
      ]
     },
     "metadata": {
      "needs_background": "light"
     },
     "output_type": "display_data"
    }
   ],
   "source": [
    "color_dict = {0: 'green', 1: 'purple'}\n",
    "plt.figure(figsize=(8, 5))\n",
    "plt.grid()\n",
    "for i, j in zip(x, y):\n",
    "    plt.scatter(i, j, color=color_dict[j], s=60)\n",
    "plt.scatter(x, y_pred, color='k', linewidth=2)\n",
    "plt.show()"
   ]
  },
  {
   "cell_type": "code",
   "execution_count": 44,
   "metadata": {},
   "outputs": [],
   "source": [
    "def get_labels(y_pred, thresh=0.50):\n",
    "    labels = []\n",
    "    for pred in y_pred:\n",
    "        if pred >= thresh:\n",
    "            labels.append(1)\n",
    "        else:\n",
    "            labels.append(0)\n",
    "    return labels\n",
    "\n",
    "\n",
    "def get_labels2(y_probs, thresh=0.50):\n",
    "    labels = []\n",
    "    for pred in y_probs: # pred = [float, float]\n",
    "        if pred[1] >= thresh:\n",
    "            labels.append(1)\n",
    "        else:\n",
    "            labels.append(0)\n",
    "    return labels"
   ]
  },
  {
   "cell_type": "code",
   "execution_count": 63,
   "metadata": {},
   "outputs": [
    {
     "data": {
      "image/png": "[encoded data removed]",
      "text/plain": [
       "<Figure size 576x576 with 1 Axes>"
      ]
     },
     "metadata": {
      "needs_background": "light"
     },
     "output_type": "display_data"
    }
   ],
   "source": [
    "# Let's visualize our loss function with respect to our b1s\n",
    "plt.figure(figsize=(8, 8))\n",
    "plt.grid()\n",
    "plt.plot(b1s, scores, alpha=0.5)\n",
    "plt.xlabel('Beta_1s')\n",
    "plt.ylabel('1 - Accuracy')\n",
    "plt.show()"
   ]
  },
  {
   "cell_type": "code",
   "execution_count": 72,
   "metadata": {},
   "outputs": [],
   "source": [
    "preds = sigmoid(x)\n",
    "labels = get_labels(preds)\n",
    "# 1 - accuracy_score(y, labels) \n",
    "# loss function = 1 - accuracy\n",
    "# b0 = -10, b1 = 1, 0.366\n",
    "\n",
    "\n",
    "# Find b0 and b1 that minimizes are loss function\n",
    "# for the sake of simplicity we're going  to hold b0 = -10\n",
    "\n",
    "b0s = np.linspace(-20, 20, 100)\n",
    "b1s = np.linspace(-20, 20, 100)\n",
    "\n",
    "loss_function = lambda y, labels: 1 - accuracy_score(y, labels)\n",
    "\n",
    "# let's just do a loop to find the best b1 for our b0 = -10\n",
    "\n",
    "scores = []\n",
    "for b0 in b0s:\n",
    "    for b1 in b1s:\n",
    "        preds = sigmoid(x, b0=b0, b1=b1)\n",
    "        labels = get_labels(preds)\n",
    "        loss = loss_function(y, labels)\n",
    "        scores.append(loss)\n",
    "        scores.append([b0, b1, loss])"
   ]
  },
  {
   "cell_type": "code",
   "execution_count": 76,
   "metadata": {},
   "outputs": [
    {
     "data": {
      "text/plain": [
       "[[-13.93939393939394, 2.2222222222222214, 0.08499999999999996],\n",
       " [-19.19191919191919, 3.030303030303031, 0.08699999999999997],\n",
       " [-8.686868686868687, 1.4141414141414153, 0.08699999999999997],\n",
       " [-20.0, 3.030303030303031, 0.08999999999999997],\n",
       " [-14.343434343434343, 2.2222222222222214, 0.09099999999999997],\n",
       " [-14.747474747474747, 2.2222222222222214, 0.09199999999999997],\n",
       " [-8.282828282828284, 1.4141414141414153, 0.09399999999999997],\n",
       " [-12.727272727272727, 2.2222222222222214, 0.09499999999999997],\n",
       " [-17.171717171717173, 3.030303030303031, 0.09599999999999997],\n",
       " [-3.434343434343436, 0.6060606060606055, 0.09599999999999997],\n",
       " [-12.323232323232324, 2.2222222222222214, 0.09699999999999998],\n",
       " [-15.555555555555555, 2.2222222222222214, 0.09799999999999998],\n",
       " [-4.242424242424242, 0.6060606060606055, 0.09799999999999998],\n",
       " [-15.959595959595958, 2.2222222222222214, 0.10399999999999998],\n",
       " [-11.919191919191919, 2.2222222222222214, 0.10799999999999998],\n",
       " [-7.474747474747476, 1.4141414141414153, 0.11199999999999999],\n",
       " [-16.363636363636363, 2.2222222222222214, 0.11399999999999999],\n",
       " [-11.515151515151516, 2.2222222222222214, 0.122],\n",
       " [-15.555555555555555, 3.030303030303031, 0.123],\n",
       " [-10.707070707070708, 1.4141414141414153, 0.125]]"
      ]
     },
     "execution_count": 76,
     "metadata": {},
     "output_type": "execute_result"
    }
   ],
   "source": [
    "scores = scores[1::2]\n",
    "scores = sorted(scores, key = lambda x: x[2])\n",
    "scores[:20]"
   ]
  },
  {
   "cell_type": "markdown",
   "metadata": {},
   "source": [
    "### Estimating b0 and b1 using sklearn logisticregression"
   ]
  },
  {
   "cell_type": "code",
   "execution_count": 78,
   "metadata": {},
   "outputs": [
    {
     "name": "stderr",
     "output_type": "stream",
     "text": [
      "/anaconda3/lib/python3.7/site-packages/sklearn/model_selection/_split.py:2179: FutureWarning: From version 0.21, test_size will always complement train_size unless both are specified.\n",
      "  FutureWarning)\n"
     ]
    }
   ],
   "source": [
    "xtrain, xtest, ytrain, ytest = train_test_split(x, y, train_size=0.80)"
   ]
  },
  {
   "cell_type": "code",
   "execution_count": 80,
   "metadata": {},
   "outputs": [],
   "source": [
    "logreg = LogisticRegression()"
   ]
  },
  {
   "cell_type": "code",
   "execution_count": 81,
   "metadata": {},
   "outputs": [
    {
     "name": "stderr",
     "output_type": "stream",
     "text": [
      "/anaconda3/lib/python3.7/site-packages/sklearn/linear_model/logistic.py:433: FutureWarning: Default solver will be changed to 'lbfgs' in 0.22. Specify a solver to silence this warning.\n",
      "  FutureWarning)\n"
     ]
    },
    {
     "data": {
      "text/plain": [
       "LogisticRegression(C=1.0, class_weight=None, dual=False, fit_intercept=True,\n",
       "          intercept_scaling=1, max_iter=100, multi_class='warn',\n",
       "          n_jobs=None, penalty='l2', random_state=None, solver='warn',\n",
       "          tol=0.0001, verbose=0, warm_start=False)"
      ]
     },
     "execution_count": 81,
     "metadata": {},
     "output_type": "execute_result"
    }
   ],
   "source": [
    "logreg.fit(xtrain, ytrain)"
   ]
  },
  {
   "cell_type": "code",
   "execution_count": 84,
   "metadata": {},
   "outputs": [
    {
     "data": {
      "text/plain": [
       "(array([[1.09969695]]), array([-6.72057185]))"
      ]
     },
     "execution_count": 84,
     "metadata": {},
     "output_type": "execute_result"
    }
   ],
   "source": [
    "logreg.coef_, logreg.intercept_"
   ]
  },
  {
   "cell_type": "code",
   "execution_count": 90,
   "metadata": {},
   "outputs": [
    {
     "data": {
      "image/png": "[encoded data removed]",
      "text/plain": [
       "<Figure size 576x360 with 1 Axes>"
      ]
     },
     "metadata": {
      "needs_background": "light"
     },
     "output_type": "display_data"
    }
   ],
   "source": [
    "# let's visualize this \n",
    "y_pred = sigmoid(x, b0=-6.7, b1=1.1)\n",
    "color_dict = {0: 'green', 1: 'purple'}\n",
    "plt.figure(figsize=(8, 5))\n",
    "plt.grid()\n",
    "for i, j in zip(x, y):\n",
    "    plt.scatter(i, j, color=color_dict[j], s=60)\n",
    "plt.scatter(x, y_pred, color='k', linewidth=2, alpha=0.5)\n",
    "plt.show()"
   ]
  },
  {
   "cell_type": "markdown",
   "metadata": {},
   "source": [
    "### Estimating b0 and b1 using sgdclassifier"
   ]
  },
  {
   "cell_type": "code",
   "execution_count": 86,
   "metadata": {},
   "outputs": [
    {
     "name": "stderr",
     "output_type": "stream",
     "text": [
      "/anaconda3/lib/python3.7/site-packages/sklearn/linear_model/stochastic_gradient.py:166: FutureWarning: max_iter and tol parameters have been added in SGDClassifier in 0.19. If both are left unset, they default to max_iter=5 and tol=None. If tol is not None, max_iter defaults to max_iter=1000. From 0.21, default max_iter will be 1000, and default tol will be 1e-3.\n",
      "  FutureWarning)\n"
     ]
    },
    {
     "data": {
      "text/plain": [
       "SGDClassifier(alpha=0.0001, average=False, class_weight=None,\n",
       "       early_stopping=False, epsilon=0.1, eta0=0.0, fit_intercept=True,\n",
       "       l1_ratio=0.15, learning_rate='optimal', loss='log', max_iter=None,\n",
       "       n_iter=None, n_iter_no_change=5, n_jobs=None, penalty='l2',\n",
       "       power_t=0.5, random_state=None, shuffle=True, tol=None,\n",
       "       validation_fraction=0.1, verbose=0, warm_start=False)"
      ]
     },
     "execution_count": 86,
     "metadata": {},
     "output_type": "execute_result"
    }
   ],
   "source": [
    "logreg = SGDClassifier(loss='log')\n",
    "logreg.fit(xtrain, ytrain)"
   ]
  },
  {
   "cell_type": "code",
   "execution_count": 87,
   "metadata": {},
   "outputs": [
    {
     "data": {
      "text/plain": [
       "(array([[45.25592497]]), array([-339.69059294]))"
      ]
     },
     "execution_count": 87,
     "metadata": {},
     "output_type": "execute_result"
    }
   ],
   "source": [
    "logreg.coef_, logreg.intercept_"
   ]
  },
  {
   "cell_type": "code",
   "execution_count": 88,
   "metadata": {},
   "outputs": [
    {
     "data": {
      "image/png": "[encoded data removed]",
      "text/plain": [
       "<Figure size 576x360 with 1 Axes>"
      ]
     },
     "metadata": {
      "needs_background": "light"
     },
     "output_type": "display_data"
    }
   ],
   "source": [
    "# let's visualize this \n",
    "y_pred = sigmoid(x, b0=-340, b1=45)\n",
    "color_dict = {0: 'green', 1: 'purple'}\n",
    "plt.figure(figsize=(8, 5))\n",
    "plt.grid()\n",
    "for i, j in zip(x, y):\n",
    "    plt.scatter(i, j, color=color_dict[j], s=60)\n",
    "plt.scatter(x, y_pred, color='k', linewidth=2)\n",
    "plt.show()"
   ]
  },
  {
   "cell_type": "markdown",
   "metadata": {},
   "source": [
    "# Gradient Descent Key Takeaways\n",
    "* Minimizing a loss function that you choose \n",
    "    * sklearn - SGDClassifer 'log' -> logistic regression\n",
    "* Derivates are used to determine which direction to step in\n",
    "    * If positive derivative step towards the 'center' from the right\n",
    "    * If negative derivative step towards the 'center' from the left\n",
    "* learning rates really matter because it determines how much of the step you take $b1 -= learning_rate*derivative$\n",
    "    * 1.0 -> taking the entire step, probably too big\n",
    "        * If it's too big you never find the center\n",
    "    * Most common learning rates are\n",
    "        * 0.1 -> take a tenth of that derivative step\n",
    "        * 0.05 -> \n",
    "        * 0.01\n",
    "        * 0.001\n",
    "        * 0.0001 -> efficiency is terrible with these small step sizes\n",
    "    * Parametrization (penalties)\n",
    "        * l2 is most common\n",
    "* Regular Gradient Descent\n",
    "    * Pros - super efficient\n",
    "    * Cons - super innacurate -> fall into first well you encounter, did you start correctly?\n",
    "* Stochastic Gradient Descent \n",
    "    * Pros - Super accurate -> throw out a normal distribution (or some random distribution) of starting points\n",
    "    * Cons - Inefficient and you might fall into a local minimum and not global"
   ]
  },
  {
   "cell_type": "code",
   "execution_count": 92,
   "metadata": {},
   "outputs": [],
   "source": [
    "### Cross Validation with SKlearn"
   ]
  },
  {
   "cell_type": "code",
   "execution_count": 101,
   "metadata": {},
   "outputs": [],
   "source": [
    "logreg = LogisticRegressionCV(verbose=10)"
   ]
  },
  {
   "cell_type": "code",
   "execution_count": 102,
   "metadata": {},
   "outputs": [
    {
     "name": "stderr",
     "output_type": "stream",
     "text": [
      "/anaconda3/lib/python3.7/site-packages/sklearn/model_selection/_split.py:2053: FutureWarning: You should specify a value for 'cv' instead of relying on the default value. The default value will change from 3 to 5 in version 0.22.\n",
      "  warnings.warn(CV_WARNING, FutureWarning)\n",
      "[Parallel(n_jobs=1)]: Using backend SequentialBackend with 1 concurrent workers.\n",
      "[Parallel(n_jobs=1)]: Done   1 out of   1 | elapsed:    0.1s remaining:    0.0s\n",
      "[Parallel(n_jobs=1)]: Done   2 out of   2 | elapsed:    0.2s remaining:    0.0s\n",
      "[Parallel(n_jobs=1)]: Done   3 out of   3 | elapsed:    0.2s remaining:    0.0s\n",
      "[Parallel(n_jobs=1)]: Done   3 out of   3 | elapsed:    0.2s finished\n"
     ]
    },
    {
     "data": {
      "text/plain": [
       "LogisticRegressionCV(Cs=10, class_weight=None, cv='warn', dual=False,\n",
       "           fit_intercept=True, intercept_scaling=1.0, max_iter=100,\n",
       "           multi_class='warn', n_jobs=None, penalty='l2',\n",
       "           random_state=None, refit=True, scoring=None, solver='lbfgs',\n",
       "           tol=0.0001, verbose=10)"
      ]
     },
     "execution_count": 102,
     "metadata": {},
     "output_type": "execute_result"
    }
   ],
   "source": [
    "logreg.fit(xtrain, ytrain)"
   ]
  },
  {
   "cell_type": "code",
   "execution_count": 103,
   "metadata": {},
   "outputs": [
    {
     "data": {
      "text/plain": [
       "(array([[0.08946304]]), array([-0.54310658]))"
      ]
     },
     "execution_count": 103,
     "metadata": {},
     "output_type": "execute_result"
    }
   ],
   "source": [
    "logreg.coef_, logreg.intercept_"
   ]
  },
  {
   "cell_type": "code",
   "execution_count": 108,
   "metadata": {},
   "outputs": [
    {
     "name": "stderr",
     "output_type": "stream",
     "text": [
      "/anaconda3/lib/python3.7/site-packages/sklearn/linear_model/logistic.py:433: FutureWarning: Default solver will be changed to 'lbfgs' in 0.22. Specify a solver to silence this warning.\n",
      "  FutureWarning)\n",
      "/anaconda3/lib/python3.7/site-packages/sklearn/linear_model/logistic.py:433: FutureWarning: Default solver will be changed to 'lbfgs' in 0.22. Specify a solver to silence this warning.\n",
      "  FutureWarning)\n",
      "/anaconda3/lib/python3.7/site-packages/sklearn/linear_model/logistic.py:433: FutureWarning: Default solver will be changed to 'lbfgs' in 0.22. Specify a solver to silence this warning.\n",
      "  FutureWarning)\n",
      "/anaconda3/lib/python3.7/site-packages/sklearn/linear_model/logistic.py:433: FutureWarning: Default solver will be changed to 'lbfgs' in 0.22. Specify a solver to silence this warning.\n",
      "  FutureWarning)\n",
      "/anaconda3/lib/python3.7/site-packages/sklearn/linear_model/logistic.py:433: FutureWarning: Default solver will be changed to 'lbfgs' in 0.22. Specify a solver to silence this warning.\n",
      "  FutureWarning)\n",
      "/anaconda3/lib/python3.7/site-packages/sklearn/linear_model/logistic.py:433: FutureWarning: Default solver will be changed to 'lbfgs' in 0.22. Specify a solver to silence this warning.\n",
      "  FutureWarning)\n",
      "/anaconda3/lib/python3.7/site-packages/sklearn/linear_model/logistic.py:433: FutureWarning: Default solver will be changed to 'lbfgs' in 0.22. Specify a solver to silence this warning.\n",
      "  FutureWarning)\n",
      "/anaconda3/lib/python3.7/site-packages/sklearn/linear_model/logistic.py:433: FutureWarning: Default solver will be changed to 'lbfgs' in 0.22. Specify a solver to silence this warning.\n",
      "  FutureWarning)\n"
     ]
    },
    {
     "data": {
      "text/plain": [
       "array([0.96825397, 0.92063492, 0.95238095, 0.9047619 , 0.87096774,\n",
       "       0.9516129 , 0.9516129 , 0.85483871])"
      ]
     },
     "execution_count": 108,
     "metadata": {},
     "output_type": "execute_result"
    }
   ],
   "source": [
    "### Using CV score\n",
    "\n",
    "logreg = LogisticRegression()\n",
    "cross_val_score(logreg, x, y, cv=8, scoring=make_scorer(recall_score))"
   ]
  },
  {
   "cell_type": "markdown",
   "metadata": {},
   "source": [
    "### What did we learn?\n",
    "* Be aware of gradient descent to not just find local but to find global minimums\n",
    "* 1 - Accuracy is an acceptable loss function\n",
    "* error and how it contributes to our score\n",
    "* penalty terms l1 and l2 (regularization parameters) -> regulate the number/size of your parameters in model\n",
    "* step size is crucial and has best practices"
   ]
  },
  {
   "cell_type": "markdown",
   "metadata": {},
   "source": [
    "### Further Questions\n",
    "* How do you find best parameters and model with them"
   ]
  }
 ],
 "metadata": {
  "kernelspec": {
   "display_name": "Python 3",
   "language": "python",
   "name": "python3"
  },
  "language_info": {
   "codemirror_mode": {
    "name": "ipython",
    "version": 3
   },
   "file_extension": ".py",
   "mimetype": "text/x-python",
   "name": "python",
   "nbconvert_exporter": "python",
   "pygments_lexer": "ipython3",
   "version": "3.7.3"
  }
 },
 "nbformat": 4,
 "nbformat_minor": 2
}
